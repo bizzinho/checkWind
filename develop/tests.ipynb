{
    "cells": [
        {
            "cell_type": "code",
            "execution_count": 1,
            "metadata": {},
            "outputs": [],
            "source": [
                "%load_ext autoreload\n",
                "%autoreload 2"
            ]
        },
        {
            "cell_type": "code",
            "execution_count": 2,
            "metadata": {},
            "outputs": [],
            "source": [
                "import requests\n",
                "from bs4 import BeautifulSoup as bs\n",
                "import os\n",
                "from selenium import webdriver\n",
                "import pandas as pd\n",
                "import pathlib"
            ]
        },
        {
            "cell_type": "code",
            "execution_count": 12,
            "metadata": {},
            "outputs": [],
            "source": [
                "driverPath = pathlib.Path.cwd().parent.joinpath(\"driver\")"
            ]
        },
        {
            "cell_type": "code",
            "execution_count": null,
            "metadata": {},
            "outputs": [],
            "source": []
        },
        {
            "cell_type": "code",
            "execution_count": 14,
            "metadata": {},
            "outputs": [],
            "source": [
                "# adding the path where the edge driver sits to PATH env var\n",
                "os.environ[\"PATH\"] += r\";\" + str(driverPath)"
            ]
        },
        {
            "cell_type": "code",
            "execution_count": 15,
            "metadata": {},
            "outputs": [],
            "source": [
                "windguru_url = \"https://www.windguru.cz/501145\""
            ]
        },
        {
            "cell_type": "code",
            "execution_count": 16,
            "metadata": {},
            "outputs": [],
            "source": [
                "driver = webdriver.Edge()"
            ]
        },
        {
            "cell_type": "code",
            "execution_count": 17,
            "metadata": {},
            "outputs": [],
            "source": [
                "driver.get(windguru_url)"
            ]
        },
        {
            "cell_type": "code",
            "execution_count": 18,
            "metadata": {},
            "outputs": [],
            "source": [
                "soup = bs(driver.page_source)"
            ]
        },
        {
            "cell_type": "code",
            "execution_count": 23,
            "metadata": {},
            "outputs": [],
            "source": [
                "tables = soup.find_all(\"tbody\")[0]"
            ]
        },
        {
            "cell_type": "code",
            "execution_count": 26,
            "metadata": {},
            "outputs": [
                {
                    "data": {
                        "text/plain": [
                            "<tbody><tr id=\"legend_tabid_0_0_dates\" style=\"height: 52px;\"><td class=\"td-init\"><span class=\"model-init\">Updated:<br/>15.10. 15:52 CEST</span></td></tr><tr class=\"param WINDSPD\" id=\"legend_tabid_0_0_WINDSPD\" style=\"height: 21px;\"><td>Wind speed <span class=\"href switchunits\" data-param=\"WINDSPD\" data-table_id=\"tabid_0\">(knots)</span></td></tr><tr class=\"param GUST\" id=\"legend_tabid_0_0_GUST\" style=\"height: 21px;\"><td>Wind gusts <span class=\"href switchunits\" data-param=\"GUST\" data-table_id=\"tabid_0\">(knots)</span></td></tr><tr class=\"param SMER\" id=\"legend_tabid_0_0_SMER\" style=\"height: 21px;\"><td>Wind direction <span class=\"href switchunits\" data-param=\"SMER\" data-table_id=\"tabid_0\">(→)</span></td></tr><tr class=\"param HTSGW\" id=\"legend_tabid_0_0_HTSGW\" style=\"height: 21px;\"><td>Wave <span class=\"href switchunits\" data-param=\"HTSGW\" data-table_id=\"tabid_0\">(m)</span></td></tr><tr class=\"param PERPW\" id=\"legend_tabid_0_0_PERPW\" style=\"height: 21px;\"><td>Wave period (s)</td></tr><tr class=\"param DIRPW\" id=\"legend_tabid_0_0_DIRPW\" style=\"height: 21px;\"><td>Wave direction <span class=\"href switchunits\" data-param=\"DIRPW\" data-table_id=\"tabid_0\">(→)</span></td></tr><tr class=\"param TMP\" id=\"legend_tabid_0_0_TMP\" style=\"height: 21px;\"><td>Temperature <span class=\"href switchunits\" data-param=\"TMP\" data-table_id=\"tabid_0\">(°C)</span></td></tr><tr class=\"param CDC\" id=\"legend_tabid_0_0_CDC\" style=\"height: 58px;\"><td>Cloud cover (%)<br/>high / mid / low</td></tr><tr class=\"param APCP1s\" id=\"legend_tabid_0_0_APCP1s\" style=\"height: 21px;\"><td><span class=\"helpinfsnow\">*Precip. (mm/1h)</span></td></tr><tr class=\"param RATING\" id=\"legend_tabid_0_0_RATING\" style=\"height: 44px;\"><td>Windguru rating</td></tr><tr class=\"tr_tides\" id=\"legend_tabid_0_0_tides\" style=\"height: 51px;\"><td>Tide</td></tr></tbody>"
                        ]
                    },
                    "execution_count": 26,
                    "metadata": {},
                    "output_type": "execute_result"
                }
            ],
            "source": [
                "tables"
            ]
        },
        {
            "cell_type": "code",
            "execution_count": 24,
            "metadata": {},
            "outputs": [],
            "source": [
                "dates = soup.find_all(\"tr\", id=\"tabid_0_0_dates\")[0]\n",
                "speeds = soup.find_all(\"tr\", id=\"tabid_0_0_WINDSPD\")[0]"
            ]
        },
        {
            "cell_type": "code",
            "execution_count": 43,
            "metadata": {},
            "outputs": [],
            "source": [
                "from datetime import datetime as dt"
            ]
        },
        {
            "cell_type": "code",
            "execution_count": 44,
            "metadata": {},
            "outputs": [
                {
                    "data": {
                        "text/plain": [
                            "[('Sa', '15', '10'),\n",
                            " ('Sa', '15', '12'),\n",
                            " ('Sa', '15', '14'),\n",
                            " ('Sa', '15', '16'),\n",
                            " ('Sa', '15', '18'),\n",
                            " ('Sa', '15', '20'),\n",
                            " ('Sa', '15', '22'),\n",
                            " ('Su', '16', '03'),\n",
                            " ('Su', '16', '05'),\n",
                            " ('Su', '16', '07'),\n",
                            " ('Su', '16', '09'),\n",
                            " ('Su', '16', '11'),\n",
                            " ('Su', '16', '13'),\n",
                            " ('Su', '16', '15'),\n",
                            " ('Su', '16', '17'),\n",
                            " ('Su', '16', '19'),\n",
                            " ('Su', '16', '21'),\n",
                            " ('Mo', '17', '03'),\n",
                            " ('Mo', '17', '05'),\n",
                            " ('Mo', '17', '07'),\n",
                            " ('Mo', '17', '09'),\n",
                            " ('Mo', '17', '11'),\n",
                            " ('Mo', '17', '13'),\n",
                            " ('Mo', '17', '15'),\n",
                            " ('Mo', '17', '17'),\n",
                            " ('Mo', '17', '19'),\n",
                            " ('Mo', '17', '21'),\n",
                            " ('Tu', '18', '03'),\n",
                            " ('Tu', '18', '05'),\n",
                            " ('Tu', '18', '07'),\n",
                            " ('Tu', '18', '09'),\n",
                            " ('Tu', '18', '11'),\n",
                            " ('Tu', '18', '13'),\n",
                            " ('Tu', '18', '15'),\n",
                            " ('Tu', '18', '17'),\n",
                            " ('Tu', '18', '19'),\n",
                            " ('Tu', '18', '22'),\n",
                            " ('We', '19', '04'),\n",
                            " ('We', '19', '06'),\n",
                            " ('We', '19', '08'),\n",
                            " ('We', '19', '10'),\n",
                            " ('We', '19', '12'),\n",
                            " ('We', '19', '14'),\n",
                            " ('We', '19', '16'),\n",
                            " ('We', '19', '18'),\n",
                            " ('We', '19', '22'),\n",
                            " ('Th', '20', '04'),\n",
                            " ('Th', '20', '06'),\n",
                            " ('Th', '20', '08'),\n",
                            " ('Th', '20', '10'),\n",
                            " ('Th', '20', '12'),\n",
                            " ('Th', '20', '14'),\n",
                            " ('Th', '20', '16'),\n",
                            " ('Th', '20', '18'),\n",
                            " ('Th', '20', '22'),\n",
                            " ('Fr', '21', '04'),\n",
                            " ('Fr', '21', '07'),\n",
                            " ('Fr', '21', '10'),\n",
                            " ('Fr', '21', '13'),\n",
                            " ('Fr', '21', '16'),\n",
                            " ('Fr', '21', '19'),\n",
                            " ('Fr', '21', '22'),\n",
                            " ('Sa', '22', '04'),\n",
                            " ('Sa', '22', '07'),\n",
                            " ('Sa', '22', '10'),\n",
                            " ('Sa', '22', '13'),\n",
                            " ('Sa', '22', '16'),\n",
                            " ('Sa', '22', '19'),\n",
                            " ('Sa', '22', '22'),\n",
                            " ('Su', '23', '04'),\n",
                            " ('Su', '23', '07'),\n",
                            " ('Su', '23', '10'),\n",
                            " ('Su', '23', '13'),\n",
                            " ('Su', '23', '16'),\n",
                            " ('Su', '23', '19'),\n",
                            " ('Su', '23', '22'),\n",
                            " ('Mo', '24', '04'),\n",
                            " ('Mo', '24', '07'),\n",
                            " ('Mo', '24', '10'),\n",
                            " ('Mo', '24', '13'),\n",
                            " ('Mo', '24', '16'),\n",
                            " ('Mo', '24', '19'),\n",
                            " ('Mo', '24', '22'),\n",
                            " ('Tu', '25', '04'),\n",
                            " ('Tu', '25', '07')]"
                        ]
                    },
                    "execution_count": 44,
                    "metadata": {},
                    "output_type": "execute_result"
                }
            ],
            "source": [
                "[(dayHour.text[0:2], dayHour.text[2:4], dayHour.text[5:7]) for dayHour in dates[0].find_all(\"td\")]"
            ]
        },
        {
            "cell_type": "code",
            "execution_count": 38,
            "metadata": {},
            "outputs": [
                {
                    "ename": "TypeError",
                    "evalue": "'NoneType' object is not callable",
                    "output_type": "error",
                    "traceback": [
                        "\u001b[1;31m---------------------------------------------------------------------------\u001b[0m",
                        "\u001b[1;31mTypeError\u001b[0m                                 Traceback (most recent call last)",
                        "\u001b[1;32mc:\\Users\\Dave\\Desktop\\Coding\\bizzail\\develop\\tests.ipynb Cell 14\u001b[0m in \u001b[0;36m<cell line: 1>\u001b[1;34m()\u001b[0m\n\u001b[1;32m----> <a href='vscode-notebook-cell:/c%3A/Users/Dave/Desktop/Coding/bizzail/develop/tests.ipynb#X23sZmlsZQ%3D%3D?line=0'>1</a>\u001b[0m pd\u001b[39m.\u001b[39;49mread_html(soup\u001b[39m.\u001b[39;49mfind_all(\u001b[39m\"\u001b[39;49m\u001b[39mtr\u001b[39;49m\u001b[39m\"\u001b[39;49m, \u001b[39mid\u001b[39;49m\u001b[39m=\u001b[39;49m\u001b[39m\"\u001b[39;49m\u001b[39mtabid_0_0_dates\u001b[39;49m\u001b[39m\"\u001b[39;49m)[\u001b[39m0\u001b[39;49m], attrs\u001b[39m=\u001b[39;49m{\u001b[39m'\u001b[39;49m\u001b[39mid\u001b[39;49m\u001b[39m'\u001b[39;49m:\u001b[39m'\u001b[39;49m\u001b[39mtabid_0_0_dates\u001b[39;49m\u001b[39m'\u001b[39;49m})\n",
                        "File \u001b[1;32mc:\\Users\\Dave\\.conda\\envs\\bizzail\\lib\\site-packages\\pandas\\util\\_decorators.py:311\u001b[0m, in \u001b[0;36mdeprecate_nonkeyword_arguments.<locals>.decorate.<locals>.wrapper\u001b[1;34m(*args, **kwargs)\u001b[0m\n\u001b[0;32m    305\u001b[0m \u001b[39mif\u001b[39;00m \u001b[39mlen\u001b[39m(args) \u001b[39m>\u001b[39m num_allow_args:\n\u001b[0;32m    306\u001b[0m     warnings\u001b[39m.\u001b[39mwarn(\n\u001b[0;32m    307\u001b[0m         msg\u001b[39m.\u001b[39mformat(arguments\u001b[39m=\u001b[39marguments),\n\u001b[0;32m    308\u001b[0m         \u001b[39mFutureWarning\u001b[39;00m,\n\u001b[0;32m    309\u001b[0m         stacklevel\u001b[39m=\u001b[39mstacklevel,\n\u001b[0;32m    310\u001b[0m     )\n\u001b[1;32m--> 311\u001b[0m \u001b[39mreturn\u001b[39;00m func(\u001b[39m*\u001b[39margs, \u001b[39m*\u001b[39m\u001b[39m*\u001b[39mkwargs)\n",
                        "File \u001b[1;32mc:\\Users\\Dave\\.conda\\envs\\bizzail\\lib\\site-packages\\pandas\\io\\html.py:1113\u001b[0m, in \u001b[0;36mread_html\u001b[1;34m(io, match, flavor, header, index_col, skiprows, attrs, parse_dates, thousands, encoding, decimal, converters, na_values, keep_default_na, displayed_only)\u001b[0m\n\u001b[0;32m   1109\u001b[0m validate_header_arg(header)\n\u001b[0;32m   1111\u001b[0m io \u001b[39m=\u001b[39m stringify_path(io)\n\u001b[1;32m-> 1113\u001b[0m \u001b[39mreturn\u001b[39;00m _parse(\n\u001b[0;32m   1114\u001b[0m     flavor\u001b[39m=\u001b[39;49mflavor,\n\u001b[0;32m   1115\u001b[0m     io\u001b[39m=\u001b[39;49mio,\n\u001b[0;32m   1116\u001b[0m     match\u001b[39m=\u001b[39;49mmatch,\n\u001b[0;32m   1117\u001b[0m     header\u001b[39m=\u001b[39;49mheader,\n\u001b[0;32m   1118\u001b[0m     index_col\u001b[39m=\u001b[39;49mindex_col,\n\u001b[0;32m   1119\u001b[0m     skiprows\u001b[39m=\u001b[39;49mskiprows,\n\u001b[0;32m   1120\u001b[0m     parse_dates\u001b[39m=\u001b[39;49mparse_dates,\n\u001b[0;32m   1121\u001b[0m     thousands\u001b[39m=\u001b[39;49mthousands,\n\u001b[0;32m   1122\u001b[0m     attrs\u001b[39m=\u001b[39;49mattrs,\n\u001b[0;32m   1123\u001b[0m     encoding\u001b[39m=\u001b[39;49mencoding,\n\u001b[0;32m   1124\u001b[0m     decimal\u001b[39m=\u001b[39;49mdecimal,\n\u001b[0;32m   1125\u001b[0m     converters\u001b[39m=\u001b[39;49mconverters,\n\u001b[0;32m   1126\u001b[0m     na_values\u001b[39m=\u001b[39;49mna_values,\n\u001b[0;32m   1127\u001b[0m     keep_default_na\u001b[39m=\u001b[39;49mkeep_default_na,\n\u001b[0;32m   1128\u001b[0m     displayed_only\u001b[39m=\u001b[39;49mdisplayed_only,\n\u001b[0;32m   1129\u001b[0m )\n",
                        "File \u001b[1;32mc:\\Users\\Dave\\.conda\\envs\\bizzail\\lib\\site-packages\\pandas\\io\\html.py:919\u001b[0m, in \u001b[0;36m_parse\u001b[1;34m(flavor, io, match, attrs, encoding, displayed_only, **kwargs)\u001b[0m\n\u001b[0;32m    916\u001b[0m p \u001b[39m=\u001b[39m parser(io, compiled_match, attrs, encoding, displayed_only)\n\u001b[0;32m    918\u001b[0m \u001b[39mtry\u001b[39;00m:\n\u001b[1;32m--> 919\u001b[0m     tables \u001b[39m=\u001b[39m p\u001b[39m.\u001b[39;49mparse_tables()\n\u001b[0;32m    920\u001b[0m \u001b[39mexcept\u001b[39;00m \u001b[39mValueError\u001b[39;00m \u001b[39mas\u001b[39;00m caught:\n\u001b[0;32m    921\u001b[0m     \u001b[39m# if `io` is an io-like object, check if it's seekable\u001b[39;00m\n\u001b[0;32m    922\u001b[0m     \u001b[39m# and try to rewind it before trying the next parser\u001b[39;00m\n\u001b[0;32m    923\u001b[0m     \u001b[39mif\u001b[39;00m \u001b[39mhasattr\u001b[39m(io, \u001b[39m\"\u001b[39m\u001b[39mseekable\u001b[39m\u001b[39m\"\u001b[39m) \u001b[39mand\u001b[39;00m io\u001b[39m.\u001b[39mseekable():\n",
                        "File \u001b[1;32mc:\\Users\\Dave\\.conda\\envs\\bizzail\\lib\\site-packages\\pandas\\io\\html.py:239\u001b[0m, in \u001b[0;36m_HtmlFrameParser.parse_tables\u001b[1;34m(self)\u001b[0m\n\u001b[0;32m    231\u001b[0m \u001b[39mdef\u001b[39;00m \u001b[39mparse_tables\u001b[39m(\u001b[39mself\u001b[39m):\n\u001b[0;32m    232\u001b[0m     \u001b[39m\"\"\"\u001b[39;00m\n\u001b[0;32m    233\u001b[0m \u001b[39m    Parse and return all tables from the DOM.\u001b[39;00m\n\u001b[0;32m    234\u001b[0m \n\u001b[1;32m   (...)\u001b[0m\n\u001b[0;32m    237\u001b[0m \u001b[39m    list of parsed (header, body, footer) tuples from tables.\u001b[39;00m\n\u001b[0;32m    238\u001b[0m \u001b[39m    \"\"\"\u001b[39;00m\n\u001b[1;32m--> 239\u001b[0m     tables \u001b[39m=\u001b[39m \u001b[39mself\u001b[39m\u001b[39m.\u001b[39m_parse_tables(\u001b[39mself\u001b[39;49m\u001b[39m.\u001b[39;49m_build_doc(), \u001b[39mself\u001b[39m\u001b[39m.\u001b[39mmatch, \u001b[39mself\u001b[39m\u001b[39m.\u001b[39mattrs)\n\u001b[0;32m    240\u001b[0m     \u001b[39mreturn\u001b[39;00m (\u001b[39mself\u001b[39m\u001b[39m.\u001b[39m_parse_thead_tbody_tfoot(table) \u001b[39mfor\u001b[39;00m table \u001b[39min\u001b[39;00m tables)\n",
                        "File \u001b[1;32mc:\\Users\\Dave\\.conda\\envs\\bizzail\\lib\\site-packages\\pandas\\io\\html.py:743\u001b[0m, in \u001b[0;36m_LxmlFrameParser._build_doc\u001b[1;34m(self)\u001b[0m\n\u001b[0;32m    740\u001b[0m         r \u001b[39m=\u001b[39m parse(f, parser\u001b[39m=\u001b[39mparser)\n\u001b[0;32m    741\u001b[0m \u001b[39melse\u001b[39;00m:\n\u001b[0;32m    742\u001b[0m     \u001b[39m# try to parse the input in the simplest way\u001b[39;00m\n\u001b[1;32m--> 743\u001b[0m     r \u001b[39m=\u001b[39m parse(\u001b[39mself\u001b[39;49m\u001b[39m.\u001b[39;49mio, parser\u001b[39m=\u001b[39;49mparser)\n\u001b[0;32m    744\u001b[0m \u001b[39mtry\u001b[39;00m:\n\u001b[0;32m    745\u001b[0m     r \u001b[39m=\u001b[39m r\u001b[39m.\u001b[39mgetroot()\n",
                        "File \u001b[1;32mc:\\Users\\Dave\\.conda\\envs\\bizzail\\lib\\site-packages\\lxml\\html\\__init__.py:937\u001b[0m, in \u001b[0;36mparse\u001b[1;34m(filename_or_url, parser, base_url, **kw)\u001b[0m\n\u001b[0;32m    935\u001b[0m \u001b[39mif\u001b[39;00m parser \u001b[39mis\u001b[39;00m \u001b[39mNone\u001b[39;00m:\n\u001b[0;32m    936\u001b[0m     parser \u001b[39m=\u001b[39m html_parser\n\u001b[1;32m--> 937\u001b[0m \u001b[39mreturn\u001b[39;00m etree\u001b[39m.\u001b[39mparse(filename_or_url, parser, base_url\u001b[39m=\u001b[39mbase_url, \u001b[39m*\u001b[39m\u001b[39m*\u001b[39mkw)\n",
                        "File \u001b[1;32msrc/lxml/etree.pyx:3538\u001b[0m, in \u001b[0;36mlxml.etree.parse\u001b[1;34m()\u001b[0m\n",
                        "File \u001b[1;32msrc/lxml/parser.pxi:1892\u001b[0m, in \u001b[0;36mlxml.etree._parseDocument\u001b[1;34m()\u001b[0m\n",
                        "\u001b[1;31mTypeError\u001b[0m: 'NoneType' object is not callable"
                    ]
                }
            ],
            "source": [
                "pd.read_html(soup.find_all(\"tr\", id=\"tabid_0_0_dates\")[0], attrs={'id':'tabid_0_0_dates'})"
            ]
        },
        {
            "cell_type": "code",
            "execution_count": 29,
            "metadata": {},
            "outputs": [
                {
                    "name": "stdout",
                    "output_type": "stream",
                    "text": [
                        "4\n",
                        "4\n",
                        "7\n",
                        "8\n",
                        "8\n",
                        "6\n",
                        "6\n",
                        "9\n",
                        "9\n",
                        "10\n",
                        "11\n",
                        "12\n",
                        "11\n",
                        "12\n",
                        "11\n",
                        "9\n",
                        "6\n",
                        "7\n",
                        "6\n",
                        "6\n",
                        "6\n",
                        "6\n",
                        "7\n",
                        "7\n",
                        "5\n",
                        "4\n",
                        "5\n",
                        "8\n",
                        "9\n",
                        "10\n",
                        "12\n",
                        "14\n",
                        "15\n",
                        "17\n",
                        "16\n",
                        "16\n",
                        "13\n",
                        "17\n",
                        "14\n",
                        "13\n",
                        "15\n",
                        "17\n",
                        "18\n",
                        "18\n",
                        "16\n",
                        "14\n",
                        "14\n",
                        "12\n",
                        "13\n",
                        "15\n",
                        "17\n",
                        "17\n",
                        "15\n",
                        "15\n",
                        "13\n",
                        "16\n",
                        "16\n",
                        "17\n",
                        "15\n",
                        "13\n",
                        "11\n",
                        "12\n",
                        "8\n",
                        "8\n",
                        "7\n",
                        "13\n",
                        "11\n",
                        "15\n",
                        "20\n",
                        "17\n",
                        "15\n",
                        "16\n",
                        "18\n",
                        "20\n",
                        "19\n",
                        "18\n",
                        "15\n",
                        "14\n",
                        "12\n",
                        "12\n",
                        "11\n",
                        "9\n",
                        "6\n",
                        "3\n",
                        "6\n"
                    ]
                }
            ],
            "source": [
                "for s in speeds.find_all(\"td\"):\n",
                "    print(s.text)"
            ]
        },
        {
            "cell_type": "code",
            "execution_count": 27,
            "metadata": {},
            "outputs": [
                {
                    "data": {
                        "text/plain": [
                            "'9'"
                        ]
                    },
                    "execution_count": 27,
                    "metadata": {},
                    "output_type": "execute_result"
                }
            ],
            "source": [
                "speeds[0].find_all(\"td\")[1].text"
            ]
        },
        {
            "cell_type": "code",
            "execution_count": 30,
            "metadata": {},
            "outputs": [
                {
                    "ename": "ValueError",
                    "evalue": "No tables found",
                    "output_type": "error",
                    "traceback": [
                        "\u001b[1;31m---------------------------------------------------------------------------\u001b[0m",
                        "\u001b[1;31mValueError\u001b[0m                                Traceback (most recent call last)",
                        "\u001b[1;32mc:\\Users\\Dave\\Desktop\\Coding\\bizzail\\develop\\tests.ipynb Cell 16\u001b[0m in \u001b[0;36m<cell line: 1>\u001b[1;34m()\u001b[0m\n\u001b[1;32m----> <a href='vscode-notebook-cell:/c%3A/Users/Dave/Desktop/Coding/bizzail/develop/tests.ipynb#X16sZmlsZQ%3D%3D?line=0'>1</a>\u001b[0m pd\u001b[39m.\u001b[39;49mread_html(speeds\u001b[39m.\u001b[39;49mtext)\n",
                        "File \u001b[1;32mc:\\Users\\Dave\\.conda\\envs\\bizzail\\lib\\site-packages\\pandas\\util\\_decorators.py:311\u001b[0m, in \u001b[0;36mdeprecate_nonkeyword_arguments.<locals>.decorate.<locals>.wrapper\u001b[1;34m(*args, **kwargs)\u001b[0m\n\u001b[0;32m    305\u001b[0m \u001b[39mif\u001b[39;00m \u001b[39mlen\u001b[39m(args) \u001b[39m>\u001b[39m num_allow_args:\n\u001b[0;32m    306\u001b[0m     warnings\u001b[39m.\u001b[39mwarn(\n\u001b[0;32m    307\u001b[0m         msg\u001b[39m.\u001b[39mformat(arguments\u001b[39m=\u001b[39marguments),\n\u001b[0;32m    308\u001b[0m         \u001b[39mFutureWarning\u001b[39;00m,\n\u001b[0;32m    309\u001b[0m         stacklevel\u001b[39m=\u001b[39mstacklevel,\n\u001b[0;32m    310\u001b[0m     )\n\u001b[1;32m--> 311\u001b[0m \u001b[39mreturn\u001b[39;00m func(\u001b[39m*\u001b[39margs, \u001b[39m*\u001b[39m\u001b[39m*\u001b[39mkwargs)\n",
                        "File \u001b[1;32mc:\\Users\\Dave\\.conda\\envs\\bizzail\\lib\\site-packages\\pandas\\io\\html.py:1113\u001b[0m, in \u001b[0;36mread_html\u001b[1;34m(io, match, flavor, header, index_col, skiprows, attrs, parse_dates, thousands, encoding, decimal, converters, na_values, keep_default_na, displayed_only)\u001b[0m\n\u001b[0;32m   1109\u001b[0m validate_header_arg(header)\n\u001b[0;32m   1111\u001b[0m io \u001b[39m=\u001b[39m stringify_path(io)\n\u001b[1;32m-> 1113\u001b[0m \u001b[39mreturn\u001b[39;00m _parse(\n\u001b[0;32m   1114\u001b[0m     flavor\u001b[39m=\u001b[39;49mflavor,\n\u001b[0;32m   1115\u001b[0m     io\u001b[39m=\u001b[39;49mio,\n\u001b[0;32m   1116\u001b[0m     match\u001b[39m=\u001b[39;49mmatch,\n\u001b[0;32m   1117\u001b[0m     header\u001b[39m=\u001b[39;49mheader,\n\u001b[0;32m   1118\u001b[0m     index_col\u001b[39m=\u001b[39;49mindex_col,\n\u001b[0;32m   1119\u001b[0m     skiprows\u001b[39m=\u001b[39;49mskiprows,\n\u001b[0;32m   1120\u001b[0m     parse_dates\u001b[39m=\u001b[39;49mparse_dates,\n\u001b[0;32m   1121\u001b[0m     thousands\u001b[39m=\u001b[39;49mthousands,\n\u001b[0;32m   1122\u001b[0m     attrs\u001b[39m=\u001b[39;49mattrs,\n\u001b[0;32m   1123\u001b[0m     encoding\u001b[39m=\u001b[39;49mencoding,\n\u001b[0;32m   1124\u001b[0m     decimal\u001b[39m=\u001b[39;49mdecimal,\n\u001b[0;32m   1125\u001b[0m     converters\u001b[39m=\u001b[39;49mconverters,\n\u001b[0;32m   1126\u001b[0m     na_values\u001b[39m=\u001b[39;49mna_values,\n\u001b[0;32m   1127\u001b[0m     keep_default_na\u001b[39m=\u001b[39;49mkeep_default_na,\n\u001b[0;32m   1128\u001b[0m     displayed_only\u001b[39m=\u001b[39;49mdisplayed_only,\n\u001b[0;32m   1129\u001b[0m )\n",
                        "File \u001b[1;32mc:\\Users\\Dave\\.conda\\envs\\bizzail\\lib\\site-packages\\pandas\\io\\html.py:939\u001b[0m, in \u001b[0;36m_parse\u001b[1;34m(flavor, io, match, attrs, encoding, displayed_only, **kwargs)\u001b[0m\n\u001b[0;32m    937\u001b[0m \u001b[39melse\u001b[39;00m:\n\u001b[0;32m    938\u001b[0m     \u001b[39massert\u001b[39;00m retained \u001b[39mis\u001b[39;00m \u001b[39mnot\u001b[39;00m \u001b[39mNone\u001b[39;00m  \u001b[39m# for mypy\u001b[39;00m\n\u001b[1;32m--> 939\u001b[0m     \u001b[39mraise\u001b[39;00m retained\n\u001b[0;32m    941\u001b[0m ret \u001b[39m=\u001b[39m []\n\u001b[0;32m    942\u001b[0m \u001b[39mfor\u001b[39;00m table \u001b[39min\u001b[39;00m tables:\n",
                        "File \u001b[1;32mc:\\Users\\Dave\\.conda\\envs\\bizzail\\lib\\site-packages\\pandas\\io\\html.py:919\u001b[0m, in \u001b[0;36m_parse\u001b[1;34m(flavor, io, match, attrs, encoding, displayed_only, **kwargs)\u001b[0m\n\u001b[0;32m    916\u001b[0m p \u001b[39m=\u001b[39m parser(io, compiled_match, attrs, encoding, displayed_only)\n\u001b[0;32m    918\u001b[0m \u001b[39mtry\u001b[39;00m:\n\u001b[1;32m--> 919\u001b[0m     tables \u001b[39m=\u001b[39m p\u001b[39m.\u001b[39;49mparse_tables()\n\u001b[0;32m    920\u001b[0m \u001b[39mexcept\u001b[39;00m \u001b[39mValueError\u001b[39;00m \u001b[39mas\u001b[39;00m caught:\n\u001b[0;32m    921\u001b[0m     \u001b[39m# if `io` is an io-like object, check if it's seekable\u001b[39;00m\n\u001b[0;32m    922\u001b[0m     \u001b[39m# and try to rewind it before trying the next parser\u001b[39;00m\n\u001b[0;32m    923\u001b[0m     \u001b[39mif\u001b[39;00m \u001b[39mhasattr\u001b[39m(io, \u001b[39m\"\u001b[39m\u001b[39mseekable\u001b[39m\u001b[39m\"\u001b[39m) \u001b[39mand\u001b[39;00m io\u001b[39m.\u001b[39mseekable():\n",
                        "File \u001b[1;32mc:\\Users\\Dave\\.conda\\envs\\bizzail\\lib\\site-packages\\pandas\\io\\html.py:239\u001b[0m, in \u001b[0;36m_HtmlFrameParser.parse_tables\u001b[1;34m(self)\u001b[0m\n\u001b[0;32m    231\u001b[0m \u001b[39mdef\u001b[39;00m \u001b[39mparse_tables\u001b[39m(\u001b[39mself\u001b[39m):\n\u001b[0;32m    232\u001b[0m     \u001b[39m\"\"\"\u001b[39;00m\n\u001b[0;32m    233\u001b[0m \u001b[39m    Parse and return all tables from the DOM.\u001b[39;00m\n\u001b[0;32m    234\u001b[0m \n\u001b[1;32m   (...)\u001b[0m\n\u001b[0;32m    237\u001b[0m \u001b[39m    list of parsed (header, body, footer) tuples from tables.\u001b[39;00m\n\u001b[0;32m    238\u001b[0m \u001b[39m    \"\"\"\u001b[39;00m\n\u001b[1;32m--> 239\u001b[0m     tables \u001b[39m=\u001b[39m \u001b[39mself\u001b[39;49m\u001b[39m.\u001b[39;49m_parse_tables(\u001b[39mself\u001b[39;49m\u001b[39m.\u001b[39;49m_build_doc(), \u001b[39mself\u001b[39;49m\u001b[39m.\u001b[39;49mmatch, \u001b[39mself\u001b[39;49m\u001b[39m.\u001b[39;49mattrs)\n\u001b[0;32m    240\u001b[0m     \u001b[39mreturn\u001b[39;00m (\u001b[39mself\u001b[39m\u001b[39m.\u001b[39m_parse_thead_tbody_tfoot(table) \u001b[39mfor\u001b[39;00m table \u001b[39min\u001b[39;00m tables)\n",
                        "File \u001b[1;32mc:\\Users\\Dave\\.conda\\envs\\bizzail\\lib\\site-packages\\pandas\\io\\html.py:569\u001b[0m, in \u001b[0;36m_BeautifulSoupHtml5LibFrameParser._parse_tables\u001b[1;34m(self, doc, match, attrs)\u001b[0m\n\u001b[0;32m    566\u001b[0m tables \u001b[39m=\u001b[39m doc\u001b[39m.\u001b[39mfind_all(element_name, attrs\u001b[39m=\u001b[39mattrs)\n\u001b[0;32m    568\u001b[0m \u001b[39mif\u001b[39;00m \u001b[39mnot\u001b[39;00m tables:\n\u001b[1;32m--> 569\u001b[0m     \u001b[39mraise\u001b[39;00m \u001b[39mValueError\u001b[39;00m(\u001b[39m\"\u001b[39m\u001b[39mNo tables found\u001b[39m\u001b[39m\"\u001b[39m)\n\u001b[0;32m    571\u001b[0m result \u001b[39m=\u001b[39m []\n\u001b[0;32m    572\u001b[0m unique_tables \u001b[39m=\u001b[39m \u001b[39mset\u001b[39m()\n",
                        "\u001b[1;31mValueError\u001b[0m: No tables found"
                    ]
                }
            ],
            "source": [
                "pd.read_html(speeds.text)"
            ]
        },
        {
            "cell_type": "code",
            "execution_count": null,
            "metadata": {},
            "outputs": [
                {
                    "ename": "TypeError",
                    "evalue": "'NoneType' object is not callable",
                    "output_type": "error",
                    "traceback": [
                        "\u001b[1;31m---------------------------------------------------------------------------\u001b[0m",
                        "\u001b[1;31mTypeError\u001b[0m                                 Traceback (most recent call last)",
                        "\u001b[1;32mc:\\Users\\OCHSEDA2\\Coding\\bizzail\\develop\\tests.ipynb Cell 9'\u001b[0m in \u001b[0;36m<cell line: 1>\u001b[1;34m()\u001b[0m\n\u001b[1;32m----> <a href='vscode-notebook-cell:/c%3A/Users/OCHSEDA2/Coding/bizzail/develop/tests.ipynb#ch0000010?line=0'>1</a>\u001b[0m df \u001b[39m=\u001b[39m pd\u001b[39m.\u001b[39;49mread_html(tables[\u001b[39m1\u001b[39;49m])\n",
                        "File \u001b[1;32mc:\\Users\\OCHSEDA2\\Miniconda3\\envs\\bizzail\\lib\\site-packages\\pandas\\util\\_decorators.py:311\u001b[0m, in \u001b[0;36mdeprecate_nonkeyword_arguments.<locals>.decorate.<locals>.wrapper\u001b[1;34m(*args, **kwargs)\u001b[0m\n\u001b[0;32m    305\u001b[0m \u001b[39mif\u001b[39;00m \u001b[39mlen\u001b[39m(args) \u001b[39m>\u001b[39m num_allow_args:\n\u001b[0;32m    306\u001b[0m     warnings\u001b[39m.\u001b[39mwarn(\n\u001b[0;32m    307\u001b[0m         msg\u001b[39m.\u001b[39mformat(arguments\u001b[39m=\u001b[39marguments),\n\u001b[0;32m    308\u001b[0m         \u001b[39mFutureWarning\u001b[39;00m,\n\u001b[0;32m    309\u001b[0m         stacklevel\u001b[39m=\u001b[39mstacklevel,\n\u001b[0;32m    310\u001b[0m     )\n\u001b[1;32m--> 311\u001b[0m \u001b[39mreturn\u001b[39;00m func(\u001b[39m*\u001b[39margs, \u001b[39m*\u001b[39m\u001b[39m*\u001b[39mkwargs)\n",
                        "File \u001b[1;32mc:\\Users\\OCHSEDA2\\Miniconda3\\envs\\bizzail\\lib\\site-packages\\pandas\\io\\html.py:1113\u001b[0m, in \u001b[0;36mread_html\u001b[1;34m(io, match, flavor, header, index_col, skiprows, attrs, parse_dates, thousands, encoding, decimal, converters, na_values, keep_default_na, displayed_only)\u001b[0m\n\u001b[0;32m   1109\u001b[0m validate_header_arg(header)\n\u001b[0;32m   1111\u001b[0m io \u001b[39m=\u001b[39m stringify_path(io)\n\u001b[1;32m-> 1113\u001b[0m \u001b[39mreturn\u001b[39;00m _parse(\n\u001b[0;32m   1114\u001b[0m     flavor\u001b[39m=\u001b[39;49mflavor,\n\u001b[0;32m   1115\u001b[0m     io\u001b[39m=\u001b[39;49mio,\n\u001b[0;32m   1116\u001b[0m     match\u001b[39m=\u001b[39;49mmatch,\n\u001b[0;32m   1117\u001b[0m     header\u001b[39m=\u001b[39;49mheader,\n\u001b[0;32m   1118\u001b[0m     index_col\u001b[39m=\u001b[39;49mindex_col,\n\u001b[0;32m   1119\u001b[0m     skiprows\u001b[39m=\u001b[39;49mskiprows,\n\u001b[0;32m   1120\u001b[0m     parse_dates\u001b[39m=\u001b[39;49mparse_dates,\n\u001b[0;32m   1121\u001b[0m     thousands\u001b[39m=\u001b[39;49mthousands,\n\u001b[0;32m   1122\u001b[0m     attrs\u001b[39m=\u001b[39;49mattrs,\n\u001b[0;32m   1123\u001b[0m     encoding\u001b[39m=\u001b[39;49mencoding,\n\u001b[0;32m   1124\u001b[0m     decimal\u001b[39m=\u001b[39;49mdecimal,\n\u001b[0;32m   1125\u001b[0m     converters\u001b[39m=\u001b[39;49mconverters,\n\u001b[0;32m   1126\u001b[0m     na_values\u001b[39m=\u001b[39;49mna_values,\n\u001b[0;32m   1127\u001b[0m     keep_default_na\u001b[39m=\u001b[39;49mkeep_default_na,\n\u001b[0;32m   1128\u001b[0m     displayed_only\u001b[39m=\u001b[39;49mdisplayed_only,\n\u001b[0;32m   1129\u001b[0m )\n",
                        "File \u001b[1;32mc:\\Users\\OCHSEDA2\\Miniconda3\\envs\\bizzail\\lib\\site-packages\\pandas\\io\\html.py:919\u001b[0m, in \u001b[0;36m_parse\u001b[1;34m(flavor, io, match, attrs, encoding, displayed_only, **kwargs)\u001b[0m\n\u001b[0;32m    916\u001b[0m p \u001b[39m=\u001b[39m parser(io, compiled_match, attrs, encoding, displayed_only)\n\u001b[0;32m    918\u001b[0m \u001b[39mtry\u001b[39;00m:\n\u001b[1;32m--> 919\u001b[0m     tables \u001b[39m=\u001b[39m p\u001b[39m.\u001b[39;49mparse_tables()\n\u001b[0;32m    920\u001b[0m \u001b[39mexcept\u001b[39;00m \u001b[39mValueError\u001b[39;00m \u001b[39mas\u001b[39;00m caught:\n\u001b[0;32m    921\u001b[0m     \u001b[39m# if `io` is an io-like object, check if it's seekable\u001b[39;00m\n\u001b[0;32m    922\u001b[0m     \u001b[39m# and try to rewind it before trying the next parser\u001b[39;00m\n\u001b[0;32m    923\u001b[0m     \u001b[39mif\u001b[39;00m \u001b[39mhasattr\u001b[39m(io, \u001b[39m\"\u001b[39m\u001b[39mseekable\u001b[39m\u001b[39m\"\u001b[39m) \u001b[39mand\u001b[39;00m io\u001b[39m.\u001b[39mseekable():\n",
                        "File \u001b[1;32mc:\\Users\\OCHSEDA2\\Miniconda3\\envs\\bizzail\\lib\\site-packages\\pandas\\io\\html.py:239\u001b[0m, in \u001b[0;36m_HtmlFrameParser.parse_tables\u001b[1;34m(self)\u001b[0m\n\u001b[0;32m    231\u001b[0m \u001b[39mdef\u001b[39;00m \u001b[39mparse_tables\u001b[39m(\u001b[39mself\u001b[39m):\n\u001b[0;32m    232\u001b[0m     \u001b[39m\"\"\"\u001b[39;00m\n\u001b[0;32m    233\u001b[0m \u001b[39m    Parse and return all tables from the DOM.\u001b[39;00m\n\u001b[0;32m    234\u001b[0m \n\u001b[1;32m   (...)\u001b[0m\n\u001b[0;32m    237\u001b[0m \u001b[39m    list of parsed (header, body, footer) tuples from tables.\u001b[39;00m\n\u001b[0;32m    238\u001b[0m \u001b[39m    \"\"\"\u001b[39;00m\n\u001b[1;32m--> 239\u001b[0m     tables \u001b[39m=\u001b[39m \u001b[39mself\u001b[39m\u001b[39m.\u001b[39m_parse_tables(\u001b[39mself\u001b[39;49m\u001b[39m.\u001b[39;49m_build_doc(), \u001b[39mself\u001b[39m\u001b[39m.\u001b[39mmatch, \u001b[39mself\u001b[39m\u001b[39m.\u001b[39mattrs)\n\u001b[0;32m    240\u001b[0m     \u001b[39mreturn\u001b[39;00m (\u001b[39mself\u001b[39m\u001b[39m.\u001b[39m_parse_thead_tbody_tfoot(table) \u001b[39mfor\u001b[39;00m table \u001b[39min\u001b[39;00m tables)\n",
                        "File \u001b[1;32mc:\\Users\\OCHSEDA2\\Miniconda3\\envs\\bizzail\\lib\\site-packages\\pandas\\io\\html.py:743\u001b[0m, in \u001b[0;36m_LxmlFrameParser._build_doc\u001b[1;34m(self)\u001b[0m\n\u001b[0;32m    740\u001b[0m         r \u001b[39m=\u001b[39m parse(f, parser\u001b[39m=\u001b[39mparser)\n\u001b[0;32m    741\u001b[0m \u001b[39melse\u001b[39;00m:\n\u001b[0;32m    742\u001b[0m     \u001b[39m# try to parse the input in the simplest way\u001b[39;00m\n\u001b[1;32m--> 743\u001b[0m     r \u001b[39m=\u001b[39m parse(\u001b[39mself\u001b[39;49m\u001b[39m.\u001b[39;49mio, parser\u001b[39m=\u001b[39;49mparser)\n\u001b[0;32m    744\u001b[0m \u001b[39mtry\u001b[39;00m:\n\u001b[0;32m    745\u001b[0m     r \u001b[39m=\u001b[39m r\u001b[39m.\u001b[39mgetroot()\n",
                        "File \u001b[1;32mc:\\Users\\OCHSEDA2\\Miniconda3\\envs\\bizzail\\lib\\site-packages\\lxml\\html\\__init__.py:937\u001b[0m, in \u001b[0;36mparse\u001b[1;34m(filename_or_url, parser, base_url, **kw)\u001b[0m\n\u001b[0;32m    935\u001b[0m \u001b[39mif\u001b[39;00m parser \u001b[39mis\u001b[39;00m \u001b[39mNone\u001b[39;00m:\n\u001b[0;32m    936\u001b[0m     parser \u001b[39m=\u001b[39m html_parser\n\u001b[1;32m--> 937\u001b[0m \u001b[39mreturn\u001b[39;00m etree\u001b[39m.\u001b[39mparse(filename_or_url, parser, base_url\u001b[39m=\u001b[39mbase_url, \u001b[39m*\u001b[39m\u001b[39m*\u001b[39mkw)\n",
                        "File \u001b[1;32msrc/lxml/etree.pyx:3538\u001b[0m, in \u001b[0;36mlxml.etree.parse\u001b[1;34m()\u001b[0m\n",
                        "File \u001b[1;32msrc/lxml/parser.pxi:1892\u001b[0m, in \u001b[0;36mlxml.etree._parseDocument\u001b[1;34m()\u001b[0m\n",
                        "\u001b[1;31mTypeError\u001b[0m: 'NoneType' object is not callable"
                    ]
                }
            ],
            "source": [
                "df = pd.read_html(tables[1])"
            ]
        }
    ],
    "metadata": {
        "kernelspec": {
            "display_name": "Python 3.10.6 ('bizzail')",
            "language": "python",
            "name": "python3"
        },
        "language_info": {
            "codemirror_mode": {
                "name": "ipython",
                "version": 3
            },
            "file_extension": ".py",
            "mimetype": "text/x-python",
            "name": "python",
            "nbconvert_exporter": "python",
            "pygments_lexer": "ipython3",
            "version": "3.10.6"
        },
        "orig_nbformat": 4,
        "vscode": {
            "interpreter": {
                "hash": "d0a4f1f184c3a3ff3b853403bc169295a41c5c07d541f54ebef79c90bba94534"
            }
        }
    },
    "nbformat": 4,
    "nbformat_minor": 2
}